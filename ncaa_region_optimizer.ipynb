{
 "cells": [
  {
   "cell_type": "markdown",
   "metadata": {},
   "source": [
    "# Genetic Algorithms for Region Paritioning"
   ]
  },
  {
   "cell_type": "markdown",
   "metadata": {},
   "source": [
    "We will be using some Python modules installed by pip rather than Anaconda, so I must adjust the import path."
   ]
  },
  {
   "cell_type": "code",
   "execution_count": 1,
   "metadata": {},
   "outputs": [],
   "source": [
    "import sys\n",
    "sys.path.insert( 1, '/usr/local/lib/python3.7/site-packages' )"
   ]
  },
  {
   "cell_type": "markdown",
   "metadata": {},
   "source": [
    "---\n",
    "\n",
    "## Import the data"
   ]
  },
  {
   "cell_type": "code",
   "execution_count": 25,
   "metadata": {},
   "outputs": [
    {
     "data": {
      "text/plain": [
       "106"
      ]
     },
     "execution_count": 25,
     "metadata": {},
     "output_type": "execute_result"
    }
   ],
   "source": [
    "import pandas\n",
    "data_filename = 'wrestling-schools-data.csv'\n",
    "data_table = pandas.read_csv( data_filename )\n",
    "len( data_table )"
   ]
  },
  {
   "cell_type": "markdown",
   "metadata": {},
   "source": [
    "### Preview it"
   ]
  },
  {
   "cell_type": "code",
   "execution_count": 26,
   "metadata": {},
   "outputs": [
    {
     "data": {
      "text/html": [
       "<div>\n",
       "<style scoped>\n",
       "    .dataframe tbody tr th:only-of-type {\n",
       "        vertical-align: middle;\n",
       "    }\n",
       "\n",
       "    .dataframe tbody tr th {\n",
       "        vertical-align: top;\n",
       "    }\n",
       "\n",
       "    .dataframe thead th {\n",
       "        text-align: right;\n",
       "    }\n",
       "</style>\n",
       "<table border=\"1\" class=\"dataframe\">\n",
       "  <thead>\n",
       "    <tr style=\"text-align: right;\">\n",
       "      <th></th>\n",
       "      <th>UniqueID</th>\n",
       "      <th>College/University Name</th>\n",
       "      <th>Street</th>\n",
       "      <th>City</th>\n",
       "      <th>State</th>\n",
       "      <th>Latitude</th>\n",
       "      <th>Longitude</th>\n",
       "      <th>Power-1</th>\n",
       "      <th>Power-2</th>\n",
       "      <th>NCAA Asgt</th>\n",
       "      <th>ND Asgt</th>\n",
       "      <th>ND Asgt2</th>\n",
       "      <th>ND Asgt3</th>\n",
       "    </tr>\n",
       "  </thead>\n",
       "  <tbody>\n",
       "    <tr>\n",
       "      <th>0</th>\n",
       "      <td>1</td>\n",
       "      <td>Adrian College</td>\n",
       "      <td>10 S Madison St</td>\n",
       "      <td>Adrian</td>\n",
       "      <td>MI</td>\n",
       "      <td>41.899337</td>\n",
       "      <td>-84.044547</td>\n",
       "      <td>2.4514</td>\n",
       "      <td>2.927</td>\n",
       "      <td>3</td>\n",
       "      <td>2.0</td>\n",
       "      <td>1.0</td>\n",
       "      <td>5.0</td>\n",
       "    </tr>\n",
       "    <tr>\n",
       "      <th>1</th>\n",
       "      <td>2</td>\n",
       "      <td>Alfred State College  (add 2018)</td>\n",
       "      <td>10 Upper College Drive</td>\n",
       "      <td>Alfred</td>\n",
       "      <td>NY</td>\n",
       "      <td>42.254334</td>\n",
       "      <td>-77.789646</td>\n",
       "      <td>0.0000</td>\n",
       "      <td>0.000</td>\n",
       "      <td>0</td>\n",
       "      <td>NaN</td>\n",
       "      <td>NaN</td>\n",
       "      <td>NaN</td>\n",
       "    </tr>\n",
       "    <tr>\n",
       "      <th>2</th>\n",
       "      <td>3</td>\n",
       "      <td>Alma College</td>\n",
       "      <td>614 W Superior St</td>\n",
       "      <td>Alma</td>\n",
       "      <td>MI</td>\n",
       "      <td>43.380011</td>\n",
       "      <td>-84.655654</td>\n",
       "      <td>5.1091</td>\n",
       "      <td>5.941</td>\n",
       "      <td>3</td>\n",
       "      <td>6.0</td>\n",
       "      <td>1.0</td>\n",
       "      <td>5.0</td>\n",
       "    </tr>\n",
       "    <tr>\n",
       "      <th>3</th>\n",
       "      <td>4</td>\n",
       "      <td>Augsburg</td>\n",
       "      <td>2211 Riverside Ave</td>\n",
       "      <td>Minneapolis</td>\n",
       "      <td>MN</td>\n",
       "      <td>44.963541</td>\n",
       "      <td>-93.267835</td>\n",
       "      <td>9.6340</td>\n",
       "      <td>8.890</td>\n",
       "      <td>2</td>\n",
       "      <td>6.0</td>\n",
       "      <td>5.0</td>\n",
       "      <td>3.0</td>\n",
       "    </tr>\n",
       "    <tr>\n",
       "      <th>4</th>\n",
       "      <td>5</td>\n",
       "      <td>Augustana (IL)</td>\n",
       "      <td>639 38th St</td>\n",
       "      <td>Rock Island</td>\n",
       "      <td>IL</td>\n",
       "      <td>41.470591</td>\n",
       "      <td>-90.583733</td>\n",
       "      <td>0.0000</td>\n",
       "      <td>0.301</td>\n",
       "      <td>1</td>\n",
       "      <td>2.0</td>\n",
       "      <td>4.0</td>\n",
       "      <td>3.0</td>\n",
       "    </tr>\n",
       "  </tbody>\n",
       "</table>\n",
       "</div>"
      ],
      "text/plain": [
       "   UniqueID           College/University Name                  Street  \\\n",
       "0         1                    Adrian College         10 S Madison St   \n",
       "1         2  Alfred State College  (add 2018)  10 Upper College Drive   \n",
       "2         3                      Alma College       614 W Superior St   \n",
       "3         4                          Augsburg      2211 Riverside Ave   \n",
       "4         5                    Augustana (IL)             639 38th St   \n",
       "\n",
       "         City  State   Latitude  Longitude  Power-1  Power-2  NCAA Asgt  \\\n",
       "0       Adrian    MI  41.899337 -84.044547   2.4514    2.927          3   \n",
       "1       Alfred    NY  42.254334 -77.789646   0.0000    0.000          0   \n",
       "2         Alma    MI  43.380011 -84.655654   5.1091    5.941          3   \n",
       "3  Minneapolis    MN  44.963541 -93.267835   9.6340    8.890          2   \n",
       "4  Rock Island    IL  41.470591 -90.583733   0.0000    0.301          1   \n",
       "\n",
       "   ND Asgt  ND Asgt2  ND Asgt3  \n",
       "0      2.0       1.0       5.0  \n",
       "1      NaN       NaN       NaN  \n",
       "2      6.0       1.0       5.0  \n",
       "3      6.0       5.0       3.0  \n",
       "4      2.0       4.0       3.0  "
      ]
     },
     "execution_count": 26,
     "metadata": {},
     "output_type": "execute_result"
    }
   ],
   "source": [
    "data_table[:5]"
   ]
  },
  {
   "cell_type": "markdown",
   "metadata": {},
   "source": [
    "### Drop schools we don't want in this analysis\n",
    "\n",
    "Some schools were dropped for various domain-specific reasons.  See paper."
   ]
  },
  {
   "cell_type": "code",
   "execution_count": 4,
   "metadata": {},
   "outputs": [
    {
     "data": {
      "text/plain": [
       "103"
      ]
     },
     "execution_count": 4,
     "metadata": {},
     "output_type": "execute_result"
    }
   ],
   "source": [
    "data_table = pandas.concat( [ data_table[:31], data_table[32:61], data_table[62:85], data_table[86:] ] )\n",
    "num_schools = len( data_table )\n",
    "num_schools"
   ]
  },
  {
   "cell_type": "markdown",
   "metadata": {},
   "source": [
    "### Make it easy to fetch desired rows/columns"
   ]
  },
  {
   "cell_type": "code",
   "execution_count": 5,
   "metadata": {},
   "outputs": [],
   "source": [
    "def school ( key ):\n",
    "    column = 'UniqueID' if type( key ) == int else 'College/University Name'\n",
    "    return data_table[data_table[column] == key].iloc[0]\n",
    "( SCH_ID, SCH_NAME, SCH_ADDR, SCH_CITY, SCH_STATE, SCH_LAT, SCH_LNG, SCH_POW1, SCH_POW2,\n",
    "  SCH_NCAA, SCH_ND1, SCH_ND2, SCH_ND3 ) = list( data_table.columns.values )\n",
    "def all_ids ():\n",
    "    return list( data_table['UniqueID'] )\n",
    "def index_to_id ( index ):\n",
    "    return all_ids()[index]\n",
    "# print( school( 2 )[SCH_NAME] )\n",
    "# print( school( 'Augsburg' )[SCH_ID] )\n",
    "# print( school( 50 )[SCH_LAT], get_school( 50 )[SCH_LNG] )"
   ]
  },
  {
   "cell_type": "markdown",
   "metadata": {},
   "source": [
    "---\n",
    "\n",
    "## Map distance tools"
   ]
  },
  {
   "cell_type": "markdown",
   "metadata": {},
   "source": [
    "Import tools that can compute distance on the (curved) surface of the earth."
   ]
  },
  {
   "cell_type": "code",
   "execution_count": 6,
   "metadata": {},
   "outputs": [],
   "source": [
    "from geopy.distance import great_circle\n",
    "def school_latlng ( school ):\n",
    "    return ( school[SCH_LAT], school[SCH_LNG] )"
   ]
  },
  {
   "cell_type": "markdown",
   "metadata": {},
   "source": [
    "Now pre-compute the distance between any two pair of schools and cache it in a matrix, because we'll be asking these distance questions a million times below, and this cache will speed it up a lot."
   ]
  },
  {
   "cell_type": "code",
   "execution_count": 7,
   "metadata": {},
   "outputs": [],
   "source": [
    "school_locations = [ school_latlng( school( index_to_id( i ) ) )\n",
    "                     for i in range( num_schools ) ]\n",
    "distance_matrix = [ [ great_circle( school_locations[i], school_locations[j] ).miles\n",
    "                      for i in range( num_schools ) ] for j in range( num_schools ) ]\n",
    "def distance_lookup ( school_index1, school_index2 ):\n",
    "    return distance_matrix[school_index1][school_index2]"
   ]
  },
  {
   "cell_type": "markdown",
   "metadata": {},
   "source": [
    "---\n",
    "\n",
    "## Utilities for partitions"
   ]
  },
  {
   "cell_type": "code",
   "execution_count": 8,
   "metadata": {},
   "outputs": [],
   "source": [
    "num_parts_in_partition = 6\n",
    "def indices_for_part_in_partition ( part_index, partition ):\n",
    "    return [ i for i in range( len( partition ) ) if partition[i] == part_index ]\n",
    "def schools_in_part_in_partition ( part_index, partition ):\n",
    "    return [ school( index_to_id( i ) )\n",
    "             for i in indices_for_part_in_partition( part_index, partition ) ]\n",
    "def size_of_part_in_partition ( part_index, partition ):\n",
    "    return len( indices_for_part_in_partition( part_index, partition ) )\n",
    "def random_partition ():\n",
    "    import random\n",
    "    return [ random.randint( 0, num_parts_in_partition ) for i in range( num_schools ) ]"
   ]
  },
  {
   "cell_type": "code",
   "execution_count": 9,
   "metadata": {},
   "outputs": [],
   "source": [
    "import statistics\n",
    "def print_partition ( partition ):\n",
    "    for part_index in range( num_parts_in_partition ):\n",
    "        schools = schools_in_part_in_partition( part_index, partition )\n",
    "        powers = [ school[SCH_POW2] for school in schools ]\n",
    "        print( 'Region {:1d}, {:2d} schools, mean power {:7.5f} (stdev {:7.5f}):'.format(\n",
    "            part_index + 1, size_of_part_in_partition( part_index, partition ),\n",
    "            statistics.mean( powers ), statistics.stdev( powers ) ) )\n",
    "        print( '---------------------------------------------------------' )\n",
    "        centroid = (\n",
    "            statistics.mean( [ school[SCH_LAT] for school in schools ] ),\n",
    "            statistics.mean( [ school[SCH_LNG] for school in schools ] ),\n",
    "        )\n",
    "        print( '    Centroid: {:7.3f} lat, {:7.3f} lon'.format(\n",
    "            centroid[0], centroid[1] ) )\n",
    "        latlngs = [ school_latlng( school ) for school in schools ]\n",
    "        print( '    Mean distance to centroid: {:8.3f} miles'.format(\n",
    "            statistics.mean( [ great_circle( centroid, latlng ).miles for latlng in latlngs ] )\n",
    "        ) )\n",
    "        for s in schools:\n",
    "            print( '        {:30.30s} {:30.30s} {:>7.1f} miles'.format(\n",
    "                s[SCH_NAME],\n",
    "                '{}, {}, {}'.format( s[SCH_ADDR], s[SCH_CITY], s[SCH_STATE] ),\n",
    "                great_circle( school_latlng( s ), centroid ).miles\n",
    "            ) )\n",
    "        print()\n",
    "# print_partition( random_partition() )"
   ]
  },
  {
   "cell_type": "markdown",
   "metadata": {},
   "source": [
    "---\n",
    "\n",
    "## Import map-drawing tools"
   ]
  },
  {
   "cell_type": "code",
   "execution_count": 10,
   "metadata": {},
   "outputs": [],
   "source": [
    "from plotly_for_usa_points import usa_map # this works only if you've done conda install plotly\n",
    "# also one needs all the extensions mentioned here:\n",
    "# https://github.com/plotly/plotly.py#jupyterlab-support-python-35"
   ]
  },
  {
   "cell_type": "code",
   "execution_count": 11,
   "metadata": {},
   "outputs": [
    {
     "data": {
      "application/vnd.plotly.v1+json": {
       "config": {
        "linkText": "Export to plot.ly",
        "plotlyServerURL": "https://plot.ly",
        "showLink": false
       },
       "data": [
        {
         "lat": [
          41.8993365644846,
          42.2543336792184,
          43.3800114408451,
          44.9635407913679,
          41.4705908403569,
          36.5831407863213,
          41.3696767966223,
          41.9888088054178,
          43.211366,
          42.644082339504,
          41.5027389270488,
          43.6053954151441,
          40.8539924402557,
          41.4045192941604,
          41.8386102108281,
          41.3328551506529,
          41.9667884625202,
          40.8491159725322,
          43.2351241566678,
          46.8586817091207,
          42.0326656929677,
          40.3139180448182,
          42.497787,
          40.1532624709177,
          41.8971764841438,
          36.9313668209461,
          39.8303611725345,
          36.071312819589,
          37.6488281721952,
          41.1166286819007,
          40.768608,
          42.4222,
          41.4948047998852,
          39.3009798802779,
          41.819957,
          41.5578531581087,
          41.249695,
          43.7452483808863,
          42.497053,
          43.301808404264,
          41.246018,
          39.7288266887053,
          42.0326656929677,
          39.5798604039567,
          40.8170176694803,
          40.2114561634895,
          39.8556567268425,
          43.0641113997557,
          39.1429132131986,
          40.9105077414615,
          40.5961002734109,
          39.9948827345172,
          40.8387845705949,
          43.1815190310939,
          40.727565,
          41.7491725,
          44.1530600563466,
          40.7680365658411,
          40.2869235534889,
          42.4439969178943,
          45.5213983191319,
          42.1166824018976,
          41.234354,
          43.7413012762137,
          41.844645,
          42.6687354975328,
          41.6761273165021,
          41.4043729391415,
          41.3623795481769,
          43.7236076496665,
          37.7315905018471,
          42.102207,
          45.543305909319,
          44.4553356692977,
          40.7452002000476,
          42.6003927975799,
          42.6687354975328,
          42.6687354975328,
          40.1227298467464,
          41.4050753326298,
          39.0248875154346,
          41.6433670050662,
          41.745132660835,
          40.1872424857125,
          40.0432586186377,
          42.725129691927,
          40.1739632828573,
          37.7825117815002,
          39.8982936993307,
          41.5476359205495,
          42.113406,
          38.850003,
          41.8561045224738,
          41.244404,
          42.7086952771024,
          44.8204838252361,
          43.8231999326267,
          44.7536765029032,
          42.7332604663854,
          44.5252902447454,
          44.7536765029032,
          42.0968468579179,
          39.9651003775461
         ],
         "locationmode": "USA-states",
         "lon": [
          -84.0445467317339,
          -77.7896460410084,
          -84.6556543683561,
          -93.2678345302931,
          -90.5837330796648,
          -79.4087696320266,
          -81.8643334918386,
          -70.9718070345119,
          -77.954699,
          -95.1990016938989,
          -81.6073344867402,
          -73.1851759773452,
          -74.8256781680218,
          -92.9179957592002,
          -87.6866108713176,
          -72.0962745517109,
          -91.6781898102968,
          -73.8529523254653,
          -87.9807944696251,
          -96.7424489090104,
          -93.4596498285938,
          -75.1280479188917,
          -90.692193,
          -76.5989561271502,
          -87.9431694265914,
          -80.0148748533193,
          -77.2338630129115,
          -79.8013894901289,
          -78.7015715872023,
          -83.1800018046261,
          -73.96505,
          -76.5,
          -81.5348210720373,
          -76.6106480518464,
          -71.412757,
          -75.7580720591884,
          -75.879898,
          -87.9653700028029,
          -90.677158,
          -91.7849993335128,
          -77.0371299962922,
          -90.2313680711924,
          -93.4596498285938,
          -77.0065851350082,
          -73.7406597099736,
          -77.0060334353783,
          -88.9338225127655,
          -87.9672163058561,
          -84.5036691372502,
          -81.1189150058101,
          -75.4755383262323,
          -81.7379511240983,
          -96.6475967427581,
          -71.8188207026562,
          -73.993012,
          -88.162019,
          -72.6557330160287,
          -83.8246868169835,
          -83.0752013036699,
          -84.924613316556,
          -123.108814602849,
          -80.0731434657085,
          -77.021989,
          -71.6934837913348,
          -71.457534,
          -75.4409617826354,
          -71.2732870159551,
          -75.6649126890753,
          -93.5658923290954,
          -70.2555701633095,
          -79.3565423628086,
          -72.556609,
          -94.4447066994057,
          -93.1697379625189,
          -74.0279709686414,
          -76.1784076479313,
          -75.4409617826354,
          -75.4409617826354,
          -74.7034613854475,
          -80.3838115310581,
          -84.5695516880586,
          -85.0041281211088,
          -72.6904972157587,
          -75.4580685874961,
          -86.8966986613886,
          -92.4697620179637,
          -80.2467287946698,
          -79.4438771716177,
          -80.1855817568569,
          -72.6548765791499,
          -72.522606,
          -91.954548,
          -88.1086141386192,
          -75.888692,
          -73.2012125285232,
          -91.4947751530149,
          -91.2277422265626,
          -89.6367994335373,
          -90.4708514248216,
          -89.5548358116134,
          -89.6367994335373,
          -71.5117018317223,
          -76.7315312104539
         ],
         "marker": {
          "color": "black",
          "line": {
           "width": 0
          },
          "opacity": 1,
          "size": 5
         },
         "mode": "markers",
         "type": "scattergeo",
         "uid": "61fd028b-44ba-46d6-806c-0bf469710621"
        }
       ],
       "layout": {
        "autosize": true,
        "geo": {
         "landcolor": "#9a9",
         "projection": {
          "type": "albers usa"
         },
         "scope": "usa",
         "showland": true
        },
        "showlegend": false,
        "title": {
         "text": "All Schools"
        }
       }
      },
      "image/png": "[encoded data removed]"
     },
     "metadata": {},
     "output_type": "display_data"
    }
   ],
   "source": [
    "usa_map( { 'black' : [ school_latlng( school( id ) ) for id in all_ids() ] }, 'All Schools' )"
   ]
  },
  {
   "cell_type": "code",
   "execution_count": 12,
   "metadata": {},
   "outputs": [
    {
     "data": {
      "application/vnd.plotly.v1+json": {
       "config": {
        "linkText": "Export to plot.ly",
        "plotlyServerURL": "https://plot.ly",
        "showLink": false
       },
       "data": [
        {
         "lat": [
          42.2543336792184,
          40.8539924402557,
          41.9667884625202,
          42.0326656929677,
          40.9105077414615,
          41.844645,
          45.543305909319,
          42.6687354975328,
          39.0248875154346,
          41.6433670050662,
          42.725129691927,
          40.1739632828573,
          39.8982936993307,
          42.7086952771024,
          42.0968468579179
         ],
         "locationmode": "USA-states",
         "lon": [
          -77.7896460410084,
          -74.8256781680218,
          -91.6781898102968,
          -93.4596498285938,
          -81.1189150058101,
          -71.457534,
          -94.4447066994057,
          -75.4409617826354,
          -84.5695516880586,
          -85.0041281211088,
          -92.4697620179637,
          -80.2467287946698,
          -80.1855817568569,
          -73.2012125285232,
          -71.5117018317223
         ],
         "marker": {
          "color": "red",
          "line": {
           "width": 0
          },
          "opacity": 1,
          "size": 5
         },
         "mode": "markers",
         "type": "scattergeo",
         "uid": "2dd335f8-2adc-4806-acc5-f25fc45ab8f9"
        },
        {
         "lat": [
          36.5831407863213,
          42.644082339504,
          42.0326656929677,
          41.819957,
          41.5578531581087,
          41.246018,
          39.7288266887053,
          41.7491725,
          40.2869235534889,
          42.6687354975328,
          40.7452002000476,
          42.6003927975799,
          42.6687354975328,
          40.1872424857125,
          42.113406,
          38.850003,
          44.7536765029032
         ],
         "locationmode": "USA-states",
         "lon": [
          -79.4087696320266,
          -95.1990016938989,
          -93.4596498285938,
          -71.412757,
          -75.7580720591884,
          -77.0371299962922,
          -90.2313680711924,
          -88.162019,
          -83.0752013036699,
          -75.4409617826354,
          -74.0279709686414,
          -76.1784076479313,
          -75.4409617826354,
          -75.4580685874961,
          -72.522606,
          -91.954548,
          -89.6367994335373
         ],
         "marker": {
          "color": "blue",
          "line": {
           "width": 0
          },
          "opacity": 1,
          "size": 5
         },
         "mode": "markers",
         "type": "scattergeo",
         "uid": "a7a99cb4-4d9b-4e52-af9a-8ef80eaad486"
        },
        {
         "lat": [
          43.3800114408451,
          43.211366,
          41.1166286819007,
          39.8556567268425,
          39.1429132131986,
          41.234354,
          41.6761273165021,
          43.7236076496665,
          42.102207,
          41.745132660835,
          40.0432586186377
         ],
         "locationmode": "USA-states",
         "lon": [
          -84.6556543683561,
          -77.954699,
          -83.1800018046261,
          -88.9338225127655,
          -84.5036691372502,
          -77.021989,
          -71.2732870159551,
          -70.2555701633095,
          -72.556609,
          -72.6904972157587,
          -86.8966986613886
         ],
         "marker": {
          "color": "green",
          "line": {
           "width": 0
          },
          "opacity": 1,
          "size": 5
         },
         "mode": "markers",
         "type": "scattergeo",
         "uid": "070327b9-0059-4a33-a340-3557e7add406"
        },
        {
         "lat": [
          41.4705908403569,
          41.9888088054178,
          41.5027389270488,
          43.6053954151441,
          43.2351241566678,
          46.8586817091207,
          42.497787,
          41.8971764841438,
          40.768608,
          42.4222,
          41.4948047998852,
          40.2114561634895,
          43.0641113997557,
          40.5961002734109,
          40.8387845705949,
          40.7680365658411,
          41.4043729391415,
          44.4553356692977,
          41.5476359205495,
          41.8561045224738,
          44.8204838252361,
          43.8231999326267,
          44.5252902447454,
          44.7536765029032
         ],
         "locationmode": "USA-states",
         "lon": [
          -90.5837330796648,
          -70.9718070345119,
          -81.6073344867402,
          -73.1851759773452,
          -87.9807944696251,
          -96.7424489090104,
          -90.692193,
          -87.9431694265914,
          -73.96505,
          -76.5,
          -81.5348210720373,
          -77.0060334353783,
          -87.9672163058561,
          -75.4755383262323,
          -96.6475967427581,
          -83.8246868169835,
          -75.6649126890753,
          -93.1697379625189,
          -72.6548765791499,
          -88.1086141386192,
          -91.4947751530149,
          -91.2277422265626,
          -89.5548358116134,
          -89.6367994335373
         ],
         "marker": {
          "color": "black",
          "line": {
           "width": 0
          },
          "opacity": 1,
          "size": 5
         },
         "mode": "markers",
         "type": "scattergeo",
         "uid": "cea7d6d6-f704-4838-b120-f7dec956389e"
        },
        {
         "lat": [
          41.8993365644846,
          44.9635407913679,
          41.8386102108281,
          41.3328551506529,
          40.3139180448182,
          41.249695,
          43.301808404264,
          39.5798604039567,
          39.9948827345172,
          43.1815190310939,
          44.1530600563466
         ],
         "locationmode": "USA-states",
         "lon": [
          -84.0445467317339,
          -93.2678345302931,
          -87.6866108713176,
          -72.0962745517109,
          -75.1280479188917,
          -75.879898,
          -91.7849993335128,
          -77.0065851350082,
          -81.7379511240983,
          -71.8188207026562,
          -72.6557330160287
         ],
         "marker": {
          "color": "yellow",
          "line": {
           "width": 0
          },
          "opacity": 1,
          "size": 5
         },
         "mode": "markers",
         "type": "scattergeo",
         "uid": "ef77f3ff-2df7-4a53-abc8-ed8ebca7de32"
        },
        {
         "lat": [
          41.3696767966223,
          41.4045192941604,
          40.8491159725322,
          40.1532624709177,
          36.9313668209461,
          36.071312819589,
          43.7452483808863,
          42.4439969178943,
          42.1166824018976,
          37.7315905018471,
          37.7825117815002,
          39.9651003775461
         ],
         "locationmode": "USA-states",
         "lon": [
          -81.8643334918386,
          -92.9179957592002,
          -73.8529523254653,
          -76.5989561271502,
          -80.0148748533193,
          -79.8013894901289,
          -87.9653700028029,
          -84.924613316556,
          -80.0731434657085,
          -79.3565423628086,
          -79.4438771716177,
          -76.7315312104539
         ],
         "marker": {
          "color": "magenta",
          "line": {
           "width": 0
          },
          "opacity": 1,
          "size": 5
         },
         "mode": "markers",
         "type": "scattergeo",
         "uid": "7a90923a-b25a-4190-b54c-87fd8442ac63"
        }
       ],
       "layout": {
        "autosize": true,
        "geo": {
         "landcolor": "#9a9",
         "projection": {
          "type": "albers usa"
         },
         "scope": "usa",
         "showland": true
        },
        "showlegend": false,
        "title": {
         "text": "Plotting a random parition as an example"
        }
       }
      },
      "image/png": "[encoded data removed]"
     },
     "metadata": {},
     "output_type": "display_data"
    }
   ],
   "source": [
    "def partition_map ( schools_partition, title = 'Partition of All Schools' ):\n",
    "    colors = [ 'red', 'blue', 'green', 'black', 'yellow', 'magenta', 'cyan', 'white', 'gray', 'orange' ]\n",
    "    def points_in_part ( part_index ):\n",
    "        return [ school_latlng( s )\n",
    "                 for s in schools_in_part_in_partition( part_index, schools_partition ) ]\n",
    "    return usa_map( {\n",
    "        colors[i] : points_in_part( i ) for i in range( max( schools_partition ) )\n",
    "    }, title )\n",
    "partition_map( random_partition(), 'Plotting a random parition as an example' )"
   ]
  },
  {
   "cell_type": "markdown",
   "metadata": {},
   "source": [
    "---\n",
    "\n",
    "## Components of the Objective Function"
   ]
  },
  {
   "cell_type": "markdown",
   "metadata": {},
   "source": [
    "First, we will want to experiment with the range of the various components of the objective function, to see how we should rescale them to match each other."
   ]
  },
  {
   "cell_type": "code",
   "execution_count": 13,
   "metadata": {},
   "outputs": [],
   "source": [
    "def range_experiment ( func, num_tries=100 ):\n",
    "    data = [ func( random_partition() ) for i in range( num_tries ) ]\n",
    "    return min( data ), max( data )"
   ]
  },
  {
   "cell_type": "markdown",
   "metadata": {},
   "source": [
    "### Component 1: Variance of size of parts in the partition"
   ]
  },
  {
   "cell_type": "code",
   "execution_count": 14,
   "metadata": {},
   "outputs": [],
   "source": [
    "def part_size_variance ( partition ):\n",
    "    return statistics.variance( [\n",
    "        size_of_part_in_partition( part, partition )\n",
    "        for part in range( num_parts_in_partition )\n",
    "    ] )\n",
    "# print( range_experiment( part_size_variance ) ) # gives a max in the 50s\n",
    "# plus we want size variance to be bad, so we need a -1 multiplier, so:\n",
    "def obj_fn_component_1 ( partition ):\n",
    "    return part_size_variance( partition ) * -1.0 / 50"
   ]
  },
  {
   "cell_type": "markdown",
   "metadata": {},
   "source": [
    "### Component 2: Total distance between schools in each part of the partition"
   ]
  },
  {
   "cell_type": "code",
   "execution_count": 15,
   "metadata": {},
   "outputs": [],
   "source": [
    "def total_distance_in_one_part ( part_index, partition ):\n",
    "    indices = indices_for_part_in_partition( part_index, partition )\n",
    "    return sum( [ distance_lookup( i, j )\n",
    "                  for i in indices for j in indices if i < j ] )\n",
    "def total_distance_of_all_parts ( partition ):\n",
    "    return sum( [ total_distance_in_one_part( index, partition )\n",
    "                  for index in range( num_parts_in_partition ) ] )\n",
    "# print( range_experiment( total_distance_of_all_parts ) )\n",
    "# plus we want travel distance to be bad, so we need a -1 multiplier, so:\n",
    "def obj_fn_component_2 ( partition ):\n",
    "    return total_distance_of_all_parts( partition ) * -1.0 / 50000"
   ]
  },
  {
   "cell_type": "markdown",
   "metadata": {},
   "source": [
    "### Component 3: Variance of mean powers of each part in partition "
   ]
  },
  {
   "cell_type": "code",
   "execution_count": 16,
   "metadata": {},
   "outputs": [],
   "source": [
    "def mean_power_of_part ( part_index, partition ):\n",
    "    powers = [ s[SCH_POW2] for s in schools_in_part_in_partition( part_index, partition ) ]\n",
    "    if len( powers ) > 0:\n",
    "        return statistics.mean( powers )\n",
    "    else:\n",
    "        return 0\n",
    "def part_power_variance ( partition ):\n",
    "    return statistics.variance( [\n",
    "        mean_power_of_part( part, partition )\n",
    "        for part in range( num_parts_in_partition )\n",
    "    ] )\n",
    "# print( range_experiment( part_power_variance ) )\n",
    "# plus we want power variance to be bad, so we need a -1 multiplier, so:\n",
    "def obj_fn_component_3 ( partition ):\n",
    "    return part_power_variance( partition ) * -1.0 / 5"
   ]
  },
  {
   "cell_type": "markdown",
   "metadata": {},
   "source": [
    "### Objective function: sum of 3 components"
   ]
  },
  {
   "cell_type": "code",
   "execution_count": 17,
   "metadata": {},
   "outputs": [],
   "source": [
    "def objective_function ( partition ):\n",
    "    return obj_fn_component_1( partition ) \\\n",
    "         + obj_fn_component_2( partition ) \\\n",
    "         + obj_fn_component_3( partition )"
   ]
  },
  {
   "cell_type": "markdown",
   "metadata": {},
   "source": [
    "---\n",
    "\n",
    "## Solving the problem"
   ]
  },
  {
   "cell_type": "code",
   "execution_count": 18,
   "metadata": {},
   "outputs": [
    {
     "data": {
      "application/vnd.jupyter.widget-view+json": {
       "model_id": "32e7492d4a0f44cfab0dc581b33a7532",
       "version_major": 2,
       "version_minor": 0
      },
      "text/plain": [
       "HBox(children=(IntProgress(value=0, description='Progress', max=10000, style=ProgressStyle(description_width='…"
      ]
     },
     "metadata": {},
     "output_type": "display_data"
    },
    {
     "name": "stdout",
     "output_type": "stream",
     "text": [
      "After 10000 generations: max score =  -1.6606   100% done, 15:56/15:56 (00:00)\n"
     ]
    }
   ],
   "source": [
    "num_generations = 10000\n",
    "def progress_bar ( name=\"Progress\", size=num_generations ):\n",
    "    from tqdm import tqdm_notebook\n",
    "    bar = tqdm_notebook( range( size ), desc=name )\n",
    "    def step ( *args ):\n",
    "        bar.update( 1 )\n",
    "        bar.display()\n",
    "    return step\n",
    "from ga_for_partitions import optimize_partition\n",
    "best, fitness_curve = optimize_partition(\n",
    "    objective_function = objective_function,\n",
    "    initial_pool = [ random_partition() for i in range( num_parts_in_partition ) ],\n",
    "    size_of_partition = num_parts_in_partition,\n",
    "    prob_mutate = 0.1,\n",
    "    num_generations = num_generations,\n",
    "    progress_callback = progress_bar()\n",
    ")"
   ]
  },
  {
   "cell_type": "code",
   "execution_count": 22,
   "metadata": {},
   "outputs": [
    {
     "name": "stdout",
     "output_type": "stream",
     "text": [
      "Region 1, 13 schools, mean power 2.65169 (stdev 4.79868):\n",
      "---------------------------------------------------------\n",
      "    Centroid:  39.249 lat, -78.329 lon\n",
      "    Mean distance to centroid:  137.454 miles\n",
      "        Alfred State College  (add 201 10 Upper College Drive, Alfred   209.5 miles\n",
      "        Averett University (add 2017)  420 W Main St, Danville, VA      193.4 miles\n",
      "        Elizabethtown                  1 Alpha Dr, Elizabethtown, PA    111.2 miles\n",
      "        Ferrum College                 215 Ferrum Mountain Rd, Ferrum   184.5 miles\n",
      "        Gettysburg                     300 N Washington St, Gettysbur    70.8 miles\n",
      "        Greensboro College             815 W Market St, Greensboro, N   233.9 miles\n",
      "        Johns Hopkins                  400 N. Charles Street, Baltimo    92.0 miles\n",
      "        McDaniel                       2 College Hill, Westminster, M    74.2 miles\n",
      "        Messiah                        1 College Ave, Mechanicsburg,     96.7 miles\n",
      "        Thiel                          College Ave, Greenville, PA      184.1 miles\n",
      "        Washington and Jefferson       60 S Lincoln St, Washington, P   120.3 miles\n",
      "        Washington and Lee             204 W Washington St,, Lexingto   117.9 miles\n",
      "        York (PA)                      443 Country Club Rd, York, PA     98.4 miles\n",
      "\n",
      "Region 2, 12 schools, mean power 3.00458 (stdev 6.42396):\n",
      "---------------------------------------------------------\n",
      "    Centroid:  43.408 lat, -91.255 lon\n",
      "    Mean distance to centroid:  158.209 miles\n",
      "        Buena Vista                    610 W 4th St, Storm Lake, IA     206.1 miles\n",
      "        Chicago                        5801 S Ellis Ave, Chicago , IL   211.3 miles\n",
      "        Lakeland                       W3718 South Dr, Plymouth, WI     166.3 miles\n",
      "        MacMurray College              447 E College Ave, Jacksonvill   259.6 miles\n",
      "        Simpson                        701 N C St,, Indianola, IA       184.1 miles\n",
      "        St. Johns (MN)                 2850 Abbey Plaza, Collegeville   215.6 miles\n",
      "        St. Olaf                       1520 St Olaf Ave, Northfield,    119.6 miles\n",
      "        Wartburg                       100 Wartburg Blvd, Waverly, IA    77.4 miles\n",
      "        Wisconsin-Eau Claire           105 Garfield Ave, Eau Claire,     98.3 miles\n",
      "        Wisconsin-Oshkosh              800 Algoma Blvd, Oshkosh, WI     122.8 miles\n",
      "        Wisconsin-Stevens Point        100 Main St, Stevens Point, WI   114.5 miles\n",
      "        Wisconsin-Whitewater           800 W Main St, Whitewater, WI    122.8 miles\n",
      "\n",
      "Region 3, 13 schools, mean power 1.84731 (stdev 3.25232):\n",
      "---------------------------------------------------------\n",
      "    Centroid:  41.180 lat, -83.685 lon\n",
      "    Mean distance to centroid:  132.526 miles\n",
      "        Adrian College                 10 S Madison St, Adrian, MI       53.1 miles\n",
      "        Baldwin Wallace                275 Eastland Rd, Berea, OH        95.4 miles\n",
      "        Case Western Reserve           10900 Euclid Ave, Cleveland, O   110.1 miles\n",
      "        Heidelberg                     310 E Market St, Tiffin, OH       26.6 miles\n",
      "        John Carroll                   1 John Carroll Boulevard, Univ   113.6 miles\n",
      "        Luther                         700 College Dr, Decorah, IA      439.3 miles\n",
      "        Mount St. Joseph               5701 Delhi Ave, Cincinnati, OH   147.2 miles\n",
      "        Muskingum                      163 Stormont St, New Concord,    130.9 miles\n",
      "        Ohio Wesleyan (add 2018)       61 S Sandusky St, Delaware, OH    69.5 miles\n",
      "        Olivet                         320 S Main St, Olivet, MI        108.2 miles\n",
      "        Penn State - Behrend (add 2017 4701 Behrend College D, Erie,    197.4 miles\n",
      "        Thomas More College            333 Thomas More Pkwy, Crestvie   156.1 miles\n",
      "        Trine University               1 University Ave, Angola, IN      75.5 miles\n",
      "\n",
      "Region 4, 14 schools, mean power 1.61357 (stdev 2.04692):\n",
      "---------------------------------------------------------\n",
      "    Centroid:  42.157 lat, -72.218 lon\n",
      "    Mean distance to centroid:   79.841 miles\n",
      "        Bridgewater State University   131 Summer Street, Bridgewater    65.0 miles\n",
      "        Castleton University           62 Alumni Dr,, Castleton, VT     111.4 miles\n",
      "        Coast Guard                    31 Mohegan Ave Pkwy, New Londo    57.3 miles\n",
      "        Johnson & Wales (RI)           8 Abbott Park Pl, Providence,     47.4 miles\n",
      "        New England College            98 Bridge St,, Henniker, NH       73.7 miles\n",
      "        New York University            383 Lafayette Street, New York   134.9 miles\n",
      "        Norwich                        158 Harmon Dr, Northfield, VT    139.7 miles\n",
      "        Rhode Island                   600 Mt Pleasant Ave, Providenc    44.6 miles\n",
      "        Roger Williams                 1 Old Ferry Road, Bristol, RI     58.8 miles\n",
      "        Southern Maine                 96 Falmouth St, Portland, ME     146.9 miles\n",
      "        Springfield                    263 Alden Street, Springfield,    17.8 miles\n",
      "        Stevens Institute Of Technolog 1 Castle Point Terrace, Hoboke   135.3 miles\n",
      "        Trinity (CT)                   300 Summit St, Hartford, CT       37.4 miles\n",
      "        Wesleyan (CT)                  45 Wyllys Ave, Middletown, CT     47.7 miles\n",
      "\n",
      "Region 5, 13 schools, mean power 2.66454 (stdev 2.62010):\n",
      "---------------------------------------------------------\n",
      "    Centroid:  41.741 lat, -90.524 lon\n",
      "    Mean distance to centroid:  109.925 miles\n",
      "        Augustana (IL)                 639 38th St, Rock Island, IL      18.9 miles\n",
      "        Central College                812 University St, Pella , IA    125.9 miles\n",
      "        Coe                            1220 First Avenue NE, Cedar Ra    61.4 miles\n",
      "        Cornell College                600 1st St, Mt Vernon, IA        152.3 miles\n",
      "        Dubuque                        2000 University Ave, Dubuque,     53.0 miles\n",
      "        Elmhurst                       190 S Prospect Ave, Elmhurst,    133.3 miles\n",
      "        Loras                          450 Alta Vista St,, Dubuque, I    52.8 miles\n",
      "        Millikin                       184 W Main St, Decatur, IL       154.5 miles\n",
      "        North Central (IL)             30 North Brainard Street, Nape   121.8 miles\n",
      "         Westminster (add 2017)        501 Westminster Ave, Fulton, M   213.5 miles\n",
      "        Wheaton (IL)                   501 College Ave, Wheaton, IL     124.7 miles\n",
      "        Wisconsin-La Crosse            1725 State St, La Crosse , WI    148.2 miles\n",
      "        Wisconsin-Platteville          1 University Plaza, Plattville    68.6 miles\n",
      "\n",
      "Region 6, 15 schools, mean power 1.56467 (stdev 1.94103):\n",
      "---------------------------------------------------------\n",
      "    Centroid:  41.405 lat, -75.596 lon\n",
      "    Mean distance to centroid:   63.167 miles\n",
      "        Centenary (NJ)                 400 Jefferson St, Hackettstown    55.3 miles\n",
      "        Delaware Valley                700 E Butler Ave, Doylestown,     79.2 miles\n",
      "        Ithaca                         953 Danby Rd, Ithaca, NY          84.3 miles\n",
      "        Keystone College               1 College Rd, La Plume, PA        13.5 miles\n",
      "        King's (PA)                    133 N River St, Wilkes-Barre,     18.2 miles\n",
      "        Lycoming                       700 College Pl, Williamsport,     75.5 miles\n",
      "        Merchant Marine                300 Steamboat Rd, Kings Point,   104.8 miles\n",
      "        Muhlenberg                     2400 W Chew St, Allentown, PA     56.2 miles\n",
      "        Pennsylvania College (add 2017 1 College Ave, Williamsport, P    74.9 miles\n",
      "        Rochester Institute of Technol Lomb Memorial Dr, Rochester, N    87.7 miles\n",
      "        Scranton                       800 Linden St, Scranton, PA        3.5 miles\n",
      "        SUNY-Oneonta                   08 Ravine Pkwy, Oneonta, NY       87.7 miles\n",
      "        SUNY-Oswego                    7060 New York 104, Oswego, NY     87.7 miles\n",
      "        The College of New Jersey      2000 Pennington Rd, Ewing Town   100.1 miles\n",
      "        Wilkes                         84 W South St, Wilkes-Barre, P    18.8 miles\n",
      "\n"
     ]
    }
   ],
   "source": [
    "print_partition( best )"
   ]
  },
  {
   "cell_type": "code",
   "execution_count": 23,
   "metadata": {},
   "outputs": [
    {
     "data": {
      "application/vnd.plotly.v1+json": {
       "config": {
        "linkText": "Export to plot.ly",
        "plotlyServerURL": "https://plot.ly",
        "showLink": false
       },
       "data": [
        {
         "lat": [
          42.2543336792184,
          36.5831407863213,
          40.1532624709177,
          36.9313668209461,
          39.8303611725345,
          36.071312819589,
          39.3009798802779,
          39.5798604039567,
          40.2114561634895,
          41.4050753326298,
          40.1739632828573,
          37.7825117815002,
          39.9651003775461
         ],
         "locationmode": "USA-states",
         "lon": [
          -77.7896460410084,
          -79.4087696320266,
          -76.5989561271502,
          -80.0148748533193,
          -77.2338630129115,
          -79.8013894901289,
          -76.6106480518464,
          -77.0065851350082,
          -77.0060334353783,
          -80.3838115310581,
          -80.2467287946698,
          -79.4438771716177,
          -76.7315312104539
         ],
         "marker": {
          "color": "red",
          "line": {
           "width": 0
          },
          "opacity": 1,
          "size": 5
         },
         "mode": "markers",
         "type": "scattergeo",
         "uid": "3bdef97d-b6ed-450a-9b81-a2cbedc2b90a"
        },
        {
         "lat": [
          42.644082339504,
          41.8386102108281,
          43.7452483808863,
          39.7288266887053,
          41.3623795481769,
          45.543305909319,
          44.4553356692977,
          42.725129691927,
          44.8204838252361,
          44.7536765029032,
          44.5252902447454,
          44.7536765029032
         ],
         "locationmode": "USA-states",
         "lon": [
          -95.1990016938989,
          -87.6866108713176,
          -87.9653700028029,
          -90.2313680711924,
          -93.5658923290954,
          -94.4447066994057,
          -93.1697379625189,
          -92.4697620179637,
          -91.4947751530149,
          -89.6367994335373,
          -89.5548358116134,
          -89.6367994335373
         ],
         "marker": {
          "color": "blue",
          "line": {
           "width": 0
          },
          "opacity": 1,
          "size": 5
         },
         "mode": "markers",
         "type": "scattergeo",
         "uid": "26a13f86-846e-4674-8beb-999de3a32f2a"
        },
        {
         "lat": [
          41.8993365644846,
          41.3696767966223,
          41.5027389270488,
          41.1166286819007,
          41.4948047998852,
          43.301808404264,
          39.1429132131986,
          39.9948827345172,
          40.2869235534889,
          42.4439969178943,
          42.1166824018976,
          39.0248875154346,
          41.6433670050662
         ],
         "locationmode": "USA-states",
         "lon": [
          -84.0445467317339,
          -81.8643334918386,
          -81.6073344867402,
          -83.1800018046261,
          -81.5348210720373,
          -91.7849993335128,
          -84.5036691372502,
          -81.7379511240983,
          -83.0752013036699,
          -84.924613316556,
          -80.0731434657085,
          -84.5695516880586,
          -85.0041281211088
         ],
         "marker": {
          "color": "green",
          "line": {
           "width": 0
          },
          "opacity": 1,
          "size": 5
         },
         "mode": "markers",
         "type": "scattergeo",
         "uid": "94cac203-7514-49da-8d59-7bf40ab95e52"
        },
        {
         "lat": [
          41.9888088054178,
          43.6053954151441,
          41.3328551506529,
          41.819957,
          43.1815190310939,
          40.727565,
          44.1530600563466,
          41.844645,
          41.6761273165021,
          43.7236076496665,
          42.102207,
          40.7452002000476,
          41.745132660835,
          41.5476359205495
         ],
         "locationmode": "USA-states",
         "lon": [
          -70.9718070345119,
          -73.1851759773452,
          -72.0962745517109,
          -71.412757,
          -71.8188207026562,
          -73.993012,
          -72.6557330160287,
          -71.457534,
          -71.2732870159551,
          -70.2555701633095,
          -72.556609,
          -74.0279709686414,
          -72.6904972157587,
          -72.6548765791499
         ],
         "marker": {
          "color": "black",
          "line": {
           "width": 0
          },
          "opacity": 1,
          "size": 5
         },
         "mode": "markers",
         "type": "scattergeo",
         "uid": "4afe50e7-7810-4b37-b816-f53ebceaafc7"
        },
        {
         "lat": [
          41.4705908403569,
          41.4045192941604,
          41.9667884625202,
          42.0326656929677,
          42.497787,
          41.8971764841438,
          42.497053,
          39.8556567268425,
          41.7491725,
          38.850003,
          41.8561045224738,
          43.8231999326267,
          42.7332604663854
         ],
         "locationmode": "USA-states",
         "lon": [
          -90.5837330796648,
          -92.9179957592002,
          -91.6781898102968,
          -93.4596498285938,
          -90.692193,
          -87.9431694265914,
          -90.677158,
          -88.9338225127655,
          -88.162019,
          -91.954548,
          -88.1086141386192,
          -91.2277422265626,
          -90.4708514248216
         ],
         "marker": {
          "color": "yellow",
          "line": {
           "width": 0
          },
          "opacity": 1,
          "size": 5
         },
         "mode": "markers",
         "type": "scattergeo",
         "uid": "2e7dfe37-1aaf-40be-b9db-3f7b417b6a95"
        },
        {
         "lat": [
          40.8539924402557,
          40.3139180448182,
          42.4222,
          41.5578531581087,
          41.249695,
          41.246018,
          40.8170176694803,
          40.5961002734109,
          41.234354,
          42.6687354975328,
          41.4043729391415,
          42.6687354975328,
          42.6687354975328,
          40.1227298467464,
          41.244404
         ],
         "locationmode": "USA-states",
         "lon": [
          -74.8256781680218,
          -75.1280479188917,
          -76.5,
          -75.7580720591884,
          -75.879898,
          -77.0371299962922,
          -73.7406597099736,
          -75.4755383262323,
          -77.021989,
          -75.4409617826354,
          -75.6649126890753,
          -75.4409617826354,
          -75.4409617826354,
          -74.7034613854475,
          -75.888692
         ],
         "marker": {
          "color": "magenta",
          "line": {
           "width": 0
          },
          "opacity": 1,
          "size": 5
         },
         "mode": "markers",
         "type": "scattergeo",
         "uid": "06a8371c-61fc-45b4-8eba-f512781ff99d"
        }
       ],
       "layout": {
        "autosize": true,
        "geo": {
         "landcolor": "#9a9",
         "projection": {
          "type": "albers usa"
         },
         "scope": "usa",
         "showland": true
        },
        "showlegend": false,
        "title": {
         "text": "Partition of All Schools"
        }
       }
      },
      "image/png": "[encoded data removed]"
     },
     "metadata": {},
     "output_type": "display_data"
    }
   ],
   "source": [
    "partition_map( best )"
   ]
  },
  {
   "cell_type": "code",
   "execution_count": 24,
   "metadata": {},
   "outputs": [
    {
     "data": {
      "text/plain": [
       "[<matplotlib.lines.Line2D at 0x112b4d6d8>]"
      ]
     },
     "execution_count": 24,
     "metadata": {},
     "output_type": "execute_result"
    },
    {
     "data": {
      "image/png": "[encoded data removed]",
      "text/plain": [
       "<Figure size 432x288 with 1 Axes>"
      ]
     },
     "metadata": {
      "needs_background": "light"
     },
     "output_type": "display_data"
    }
   ],
   "source": [
    "from matplotlib import pyplot as plt\n",
    "%matplotlib inline\n",
    "plt.plot( range( len( fitness_curve ) ), fitness_curve )"
   ]
  },
  {
   "cell_type": "code",
   "execution_count": null,
   "metadata": {},
   "outputs": [],
   "source": []
  }
 ],
 "metadata": {
  "kernelspec": {
   "display_name": "Python 3",
   "language": "python",
   "name": "python3"
  },
  "language_info": {
   "codemirror_mode": {
    "name": "ipython",
    "version": 3
   },
   "file_extension": ".py",
   "mimetype": "text/x-python",
   "name": "python",
   "nbconvert_exporter": "python",
   "pygments_lexer": "ipython3",
   "version": "3.7.1"
  }
 },
 "nbformat": 4,
 "nbformat_minor": 2
}
